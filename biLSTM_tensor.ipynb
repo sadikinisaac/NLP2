{
  "nbformat": 4,
  "nbformat_minor": 0,
  "metadata": {
    "colab": {
      "name": "biLSTM_tensor.ipynb",
      "provenance": [],
      "authorship_tag": "ABX9TyOeOuBm3iOuFM74P3WQgObM",
      "include_colab_link": true
    },
    "kernelspec": {
      "name": "python3",
      "display_name": "Python 3"
    }
  },
  "cells": [
    {
      "cell_type": "markdown",
      "metadata": {
        "id": "view-in-github",
        "colab_type": "text"
      },
      "source": [
        "<a href=\"https://colab.research.google.com/github/sadikinisaac/NLP2/blob/master/biLSTM_tensor.ipynb\" target=\"_parent\"><img src=\"https://colab.research.google.com/assets/colab-badge.svg\" alt=\"Open In Colab\"/></a>"
      ]
    },
    {
      "cell_type": "code",
      "metadata": {
        "id": "eiPNbnaD31Em",
        "colab_type": "code",
        "colab": {
          "base_uri": "https://localhost:8080/",
          "height": 559
        },
        "outputId": "d9408f78-346b-4905-c1b9-8b8c7969923e"
      },
      "source": [
        "import tensorflow as tf\n",
        "import numpy as np\n",
        "\n",
        "tf.reset_default_graph()\n",
        "\n",
        "sentence = (\n",
        "    'Lorem ipsum dolor sit amet consectetur adipisicing elit '\n",
        "    'sed do eiusmod tempor incididunt ut labore et dolore magna '\n",
        "    'aliqua Ut enim ad minim veniam quis nostrud exercitation'\n",
        ")\n",
        "\n",
        "word_dict = {w: i for i, w in enumerate(list(set(sentence.split())))}\n",
        "number_dict = {i: w for i, w in enumerate(list(set(sentence.split())))}\n",
        "n_class = len(word_dict)\n",
        "n_step = len(sentence.split())\n",
        "n_hidden = 5\n",
        "\n",
        "def make_batch(sentence):\n",
        "    input_batch = []\n",
        "    target_batch = []\n",
        "\n",
        "    words = sentence.split()\n",
        "    for i, word in enumerate(words[:-1]):\n",
        "        input = [word_dict[n] for n in words[:(i + 1)]]\n",
        "        input = input + [0] * (n_step - len(input))\n",
        "        target = word_dict[words[i + 1]]\n",
        "        input_batch.append(np.eye(n_class)[input])\n",
        "        target_batch.append(np.eye(n_class)[target])\n",
        "\n",
        "    return input_batch, target_batch\n",
        "\n",
        "# Bi-LSTM Model\n",
        "X = tf.placeholder(tf.float32, [None, n_step, n_class])\n",
        "Y = tf.placeholder(tf.float32, [None, n_class])\n",
        "\n",
        "W = tf.Variable(tf.random_normal([n_hidden * 2, n_class]))\n",
        "b = tf.Variable(tf.random_normal([n_class]))\n",
        "\n",
        "lstm_fw_cell = tf.nn.rnn_cell.LSTMCell(n_hidden)\n",
        "lstm_bw_cell = tf.nn.rnn_cell.LSTMCell(n_hidden)\n",
        "\n",
        "# outputs : [batch_size, len_seq, n_hidden], states : [batch_size, n_hidden]\n",
        "outputs, _ = tf.nn.bidirectional_dynamic_rnn(lstm_fw_cell,lstm_bw_cell, X, dtype=tf.float32)\n",
        "\n",
        "outputs = tf.concat([outputs[0], outputs[1]], 2) # output[0] : lstm_fw, output[1] : lstm_bw\n",
        "outputs = tf.transpose(outputs, [1, 0, 2]) # [n_step, batch_size, n_hidden]\n",
        "outputs = outputs[-1] # [batch_size, n_hidden]\n",
        "\n",
        "model = tf.matmul(outputs, W) + b\n",
        "\n",
        "cost = tf.reduce_mean(tf.nn.softmax_cross_entropy_with_logits_v2(logits=model, labels=Y))\n",
        "optimizer = tf.train.AdamOptimizer(0.001).minimize(cost)\n",
        "\n",
        "prediction = tf.cast(tf.argmax(model, 1), tf.int32)\n",
        "\n",
        "# Training\n",
        "init = tf.global_variables_initializer()\n",
        "sess = tf.Session()\n",
        "sess.run(init)\n",
        "\n",
        "input_batch, target_batch = make_batch(sentence)\n",
        "\n",
        "for epoch in range(10000):\n",
        "    _, loss = sess.run([optimizer, cost], feed_dict={X: input_batch, Y: target_batch})\n",
        "    if (epoch + 1)%1000 == 0:\n",
        "        print('Epoch:', '%04d' % (epoch + 1), 'cost =', '{:.6f}'.format(loss))\n",
        "\n",
        "predict =  sess.run([prediction], feed_dict={X: input_batch})\n",
        "print(sentence)\n",
        "print([number_dict[n] for n in [pre for pre in predict[0]]])"
      ],
      "execution_count": 1,
      "outputs": [
        {
          "output_type": "display_data",
          "data": {
            "text/html": [
              "<p style=\"color: red;\">\n",
              "The default version of TensorFlow in Colab will soon switch to TensorFlow 2.x.<br>\n",
              "We recommend you <a href=\"https://www.tensorflow.org/guide/migrate\" target=\"_blank\">upgrade</a> now \n",
              "or ensure your notebook will continue to use TensorFlow 1.x via the <code>%tensorflow_version 1.x</code> magic:\n",
              "<a href=\"https://colab.research.google.com/notebooks/tensorflow_version.ipynb\" target=\"_blank\">more info</a>.</p>\n"
            ],
            "text/plain": [
              "<IPython.core.display.HTML object>"
            ]
          },
          "metadata": {
            "tags": []
          }
        },
        {
          "output_type": "stream",
          "text": [
            "WARNING:tensorflow:From <ipython-input-1-07d2b2ef1576>:39: LSTMCell.__init__ (from tensorflow.python.ops.rnn_cell_impl) is deprecated and will be removed in a future version.\n",
            "Instructions for updating:\n",
            "This class is equivalent as tf.keras.layers.LSTMCell, and will be replaced by that in Tensorflow 2.0.\n",
            "WARNING:tensorflow:From <ipython-input-1-07d2b2ef1576>:43: bidirectional_dynamic_rnn (from tensorflow.python.ops.rnn) is deprecated and will be removed in a future version.\n",
            "Instructions for updating:\n",
            "Please use `keras.layers.Bidirectional(keras.layers.RNN(cell))`, which is equivalent to this API\n",
            "WARNING:tensorflow:From /usr/local/lib/python3.6/dist-packages/tensorflow_core/python/ops/rnn.py:464: dynamic_rnn (from tensorflow.python.ops.rnn) is deprecated and will be removed in a future version.\n",
            "Instructions for updating:\n",
            "Please use `keras.layers.RNN(cell)`, which is equivalent to this API\n",
            "WARNING:tensorflow:From /usr/local/lib/python3.6/dist-packages/tensorflow_core/python/ops/rnn_cell_impl.py:958: Layer.add_variable (from tensorflow.python.keras.engine.base_layer) is deprecated and will be removed in a future version.\n",
            "Instructions for updating:\n",
            "Please use `layer.add_weight` method instead.\n",
            "WARNING:tensorflow:From /usr/local/lib/python3.6/dist-packages/tensorflow_core/python/ops/rnn_cell_impl.py:962: calling Zeros.__init__ (from tensorflow.python.ops.init_ops) with dtype is deprecated and will be removed in a future version.\n",
            "Instructions for updating:\n",
            "Call initializer instance with the dtype argument instead of passing it to the constructor\n",
            "Epoch: 1000 cost = 2.111678\n",
            "Epoch: 2000 cost = 1.380131\n",
            "Epoch: 3000 cost = 1.062550\n",
            "Epoch: 4000 cost = 0.932729\n",
            "Epoch: 5000 cost = 0.856267\n",
            "Epoch: 6000 cost = 0.539465\n",
            "Epoch: 7000 cost = 0.391423\n",
            "Epoch: 8000 cost = 0.499453\n",
            "Epoch: 9000 cost = 0.251709\n",
            "Epoch: 10000 cost = 0.187733\n",
            "Lorem ipsum dolor sit amet consectetur adipisicing elit sed do eiusmod tempor incididunt ut labore et dolore magna aliqua Ut enim ad minim veniam quis nostrud exercitation\n",
            "['ipsum', 'dolor', 'sit', 'amet', 'consectetur', 'adipisicing', 'adipisicing', 'sed', 'do', 'eiusmod', 'tempor', 'incididunt', 'ut', 'labore', 'et', 'dolore', 'magna', 'aliqua', 'Ut', 'enim', 'enim', 'minim', 'veniam', 'quis', 'nostrud', 'exercitation']\n"
          ],
          "name": "stdout"
        }
      ]
    },
    {
      "cell_type": "code",
      "metadata": {
        "id": "4LH283QyPDrh",
        "colab_type": "code",
        "colab": {}
      },
      "source": [
        ""
      ],
      "execution_count": 0,
      "outputs": []
    }
  ]
}
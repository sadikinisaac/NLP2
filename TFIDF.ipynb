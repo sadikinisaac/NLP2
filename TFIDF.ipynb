{
  "nbformat": 4,
  "nbformat_minor": 0,
  "metadata": {
    "colab": {
      "name": "TFIDF.ipynb",
      "provenance": [],
      "authorship_tag": "ABX9TyMLdl1SJmwbbjejCxbaVBli",
      "include_colab_link": true
    },
    "kernelspec": {
      "name": "python3",
      "display_name": "Python 3"
    }
  },
  "cells": [
    {
      "cell_type": "markdown",
      "metadata": {
        "id": "view-in-github",
        "colab_type": "text"
      },
      "source": [
        "<a href=\"https://colab.research.google.com/github/sadikinisaac/NLP2/blob/master/TFIDF.ipynb\" target=\"_parent\"><img src=\"https://colab.research.google.com/assets/colab-badge.svg\" alt=\"Open In Colab\"/></a>"
      ]
    },
    {
      "cell_type": "code",
      "metadata": {
        "id": "a6ldpxj-Z3U6",
        "colab_type": "code",
        "colab": {}
      },
      "source": [
        "#Two documents in the Corpus\n",
        "\n",
        "docA= \"The dog sat on my lap\"\n",
        "\n",
        "docB = \"The cat sat on my bed\""
      ],
      "execution_count": 0,
      "outputs": []
    },
    {
      "cell_type": "code",
      "metadata": {
        "id": "DhU3kyxDaAPa",
        "colab_type": "code",
        "colab": {
          "base_uri": "https://localhost:8080/",
          "height": 34
        },
        "outputId": "c11dbde5-530f-4911-cca3-83e3a03d7898"
      },
      "source": [
        "bowA = docA.split(' ')\n",
        "bowB = docB.split(' ')\n",
        "\n",
        "bowB"
      ],
      "execution_count": 3,
      "outputs": [
        {
          "output_type": "execute_result",
          "data": {
            "text/plain": [
              "['The', 'cat', 'sat', 'on', 'my', 'bed']"
            ]
          },
          "metadata": {
            "tags": []
          },
          "execution_count": 3
        }
      ]
    },
    {
      "cell_type": "code",
      "metadata": {
        "id": "XfvqOrrqaDb6",
        "colab_type": "code",
        "colab": {
          "base_uri": "https://localhost:8080/",
          "height": 34
        },
        "outputId": "7c6690c9-709e-45ab-e966-6b49b841ac84"
      },
      "source": [
        "word_set = set(bowA).union(set(bowB))\n",
        "\n",
        "word_set"
      ],
      "execution_count": 4,
      "outputs": [
        {
          "output_type": "execute_result",
          "data": {
            "text/plain": [
              "{'The', 'bed', 'cat', 'dog', 'lap', 'my', 'on', 'sat'}"
            ]
          },
          "metadata": {
            "tags": []
          },
          "execution_count": 4
        }
      ]
    },
    {
      "cell_type": "code",
      "metadata": {
        "id": "nFgYkO-2aIkX",
        "colab_type": "code",
        "colab": {
          "base_uri": "https://localhost:8080/",
          "height": 34
        },
        "outputId": "20041e9f-30fc-4538-8949-1e03a0097e57"
      },
      "source": [
        "dictA = dict.fromkeys(word_set, 0)\n",
        "dictB = dict.fromkeys(word_set, 0)\n",
        "\n",
        "dictA"
      ],
      "execution_count": 5,
      "outputs": [
        {
          "output_type": "execute_result",
          "data": {
            "text/plain": [
              "{'The': 0, 'bed': 0, 'cat': 0, 'dog': 0, 'lap': 0, 'my': 0, 'on': 0, 'sat': 0}"
            ]
          },
          "metadata": {
            "tags": []
          },
          "execution_count": 5
        }
      ]
    },
    {
      "cell_type": "code",
      "metadata": {
        "id": "Qhv6y82ZaKTn",
        "colab_type": "code",
        "colab": {
          "base_uri": "https://localhost:8080/",
          "height": 34
        },
        "outputId": "b986126d-c4dc-46a5-dd9f-cb164ad69554"
      },
      "source": [
        "# Count words present in each bag and update count in the dict\n",
        "\n",
        "for word in bowA:\n",
        "    dictA[word] += 1\n",
        "\n",
        "for word in bowB:\n",
        "     dictB[word] += 1\n",
        "\n",
        "dictA"
      ],
      "execution_count": 6,
      "outputs": [
        {
          "output_type": "execute_result",
          "data": {
            "text/plain": [
              "{'The': 1, 'bed': 0, 'cat': 0, 'dog': 1, 'lap': 1, 'my': 1, 'on': 1, 'sat': 1}"
            ]
          },
          "metadata": {
            "tags": []
          },
          "execution_count": 6
        }
      ]
    },
    {
      "cell_type": "code",
      "metadata": {
        "id": "6lCLioZ2aL-O",
        "colab_type": "code",
        "colab": {
          "base_uri": "https://localhost:8080/",
          "height": 111
        },
        "outputId": "bc8466ee-567b-4788-9018-0bcfd86bc81a"
      },
      "source": [
        "import pandas as pd\n",
        "\n",
        "pd.DataFrame([dictA, dictB])"
      ],
      "execution_count": 7,
      "outputs": [
        {
          "output_type": "execute_result",
          "data": {
            "text/html": [
              "<div>\n",
              "<style scoped>\n",
              "    .dataframe tbody tr th:only-of-type {\n",
              "        vertical-align: middle;\n",
              "    }\n",
              "\n",
              "    .dataframe tbody tr th {\n",
              "        vertical-align: top;\n",
              "    }\n",
              "\n",
              "    .dataframe thead th {\n",
              "        text-align: right;\n",
              "    }\n",
              "</style>\n",
              "<table border=\"1\" class=\"dataframe\">\n",
              "  <thead>\n",
              "    <tr style=\"text-align: right;\">\n",
              "      <th></th>\n",
              "      <th>The</th>\n",
              "      <th>cat</th>\n",
              "      <th>dog</th>\n",
              "      <th>my</th>\n",
              "      <th>sat</th>\n",
              "      <th>on</th>\n",
              "      <th>lap</th>\n",
              "      <th>bed</th>\n",
              "    </tr>\n",
              "  </thead>\n",
              "  <tbody>\n",
              "    <tr>\n",
              "      <th>0</th>\n",
              "      <td>1</td>\n",
              "      <td>0</td>\n",
              "      <td>1</td>\n",
              "      <td>1</td>\n",
              "      <td>1</td>\n",
              "      <td>1</td>\n",
              "      <td>1</td>\n",
              "      <td>0</td>\n",
              "    </tr>\n",
              "    <tr>\n",
              "      <th>1</th>\n",
              "      <td>1</td>\n",
              "      <td>1</td>\n",
              "      <td>0</td>\n",
              "      <td>1</td>\n",
              "      <td>1</td>\n",
              "      <td>1</td>\n",
              "      <td>0</td>\n",
              "      <td>1</td>\n",
              "    </tr>\n",
              "  </tbody>\n",
              "</table>\n",
              "</div>"
            ],
            "text/plain": [
              "   The  cat  dog  my  sat  on  lap  bed\n",
              "0    1    0    1   1    1   1    1    0\n",
              "1    1    1    0   1    1   1    0    1"
            ]
          },
          "metadata": {
            "tags": []
          },
          "execution_count": 7
        }
      ]
    },
    {
      "cell_type": "code",
      "metadata": {
        "id": "WwQ4UqUxaNMx",
        "colab_type": "code",
        "colab": {}
      },
      "source": [
        "#TF-IDF"
      ],
      "execution_count": 0,
      "outputs": []
    },
    {
      "cell_type": "code",
      "metadata": {
        "id": "3tz1KKzEaPl0",
        "colab_type": "code",
        "colab": {}
      },
      "source": [
        "def compute_term_frequency(word_dict, bow):\n",
        "    tf_dict = {}\n",
        "    total_no = len(bow)\n",
        "    for word, count in word_dict.items():\n",
        "        tf_dict[word] = count/total_no\n",
        "    return tf_dict"
      ],
      "execution_count": 0,
      "outputs": []
    },
    {
      "cell_type": "code",
      "metadata": {
        "id": "crObe2cRaPoQ",
        "colab_type": "code",
        "colab": {
          "base_uri": "https://localhost:8080/",
          "height": 153
        },
        "outputId": "b120f81f-7968-4057-c0a2-451aa5639904"
      },
      "source": [
        "tfBowA = compute_term_frequency(dictA, bowA)\n",
        "tfBowB = compute_term_frequency(dictB, bowB)\n",
        "tfBowA\n"
      ],
      "execution_count": 9,
      "outputs": [
        {
          "output_type": "execute_result",
          "data": {
            "text/plain": [
              "{'The': 0.16666666666666666,\n",
              " 'bed': 0.0,\n",
              " 'cat': 0.0,\n",
              " 'dog': 0.16666666666666666,\n",
              " 'lap': 0.16666666666666666,\n",
              " 'my': 0.16666666666666666,\n",
              " 'on': 0.16666666666666666,\n",
              " 'sat': 0.16666666666666666}"
            ]
          },
          "metadata": {
            "tags": []
          },
          "execution_count": 9
        }
      ]
    },
    {
      "cell_type": "code",
      "metadata": {
        "id": "TanSnMqkaStO",
        "colab_type": "code",
        "colab": {}
      },
      "source": [
        "def compute_inverse_df(doc_list):\n",
        "    import math\n",
        "    # doc_list= [{{'The': 0, 'bed': 0, 'cat': 0, 'dog': 0, 'lap': 0, 'my': 0, 'on': 0, 'sat': 0}}]\n",
        "    no = len(doc_list)\n",
        "    idf_dict = {}\n",
        "    \n",
        "    idf_dict = dict.fromkeys(doc_list[0].keys(),0)\n",
        "    for doc in doc_list:\n",
        "        for word, count in doc.items():\n",
        "            if count > 0:\n",
        "                idf_dict[word] +=1\n",
        "    \n",
        "    for word,count in idf_dict.items():\n",
        "        idf_dict[word] = math.log(no/count)\n",
        "    return idf_dict"
      ],
      "execution_count": 0,
      "outputs": []
    },
    {
      "cell_type": "code",
      "metadata": {
        "id": "6P-YrjB2aUcu",
        "colab_type": "code",
        "colab": {}
      },
      "source": [
        "idfs = compute_inverse_df([dictA, dictB])"
      ],
      "execution_count": 0,
      "outputs": []
    },
    {
      "cell_type": "code",
      "metadata": {
        "id": "16-da7a9aV7T",
        "colab_type": "code",
        "colab": {}
      },
      "source": [
        "def compute_TFIDF(tf_bow, idfs):\n",
        "    tfidf={}\n",
        "    for word,count in tf_bow.items():\n",
        "        tfidf[word] = count * idfs[word]\n",
        "    return tfidf"
      ],
      "execution_count": 0,
      "outputs": []
    },
    {
      "cell_type": "code",
      "metadata": {
        "id": "fhUCBAEpaXlq",
        "colab_type": "code",
        "colab": {}
      },
      "source": [
        "tfidfbowA = compute_TFIDF(tfBowA, idfs)\n",
        "tfidfbowB = compute_TFIDF(tfBowB, idfs)"
      ],
      "execution_count": 0,
      "outputs": []
    },
    {
      "cell_type": "code",
      "metadata": {
        "id": "rW85w_jkaYxK",
        "colab_type": "code",
        "colab": {
          "base_uri": "https://localhost:8080/",
          "height": 111
        },
        "outputId": "7a9ba275-724a-41d0-c4e8-4534ed54676e"
      },
      "source": [
        "import pandas as pd\n",
        "pd.DataFrame([tfidfbowA, tfidfbowB])"
      ],
      "execution_count": 14,
      "outputs": [
        {
          "output_type": "execute_result",
          "data": {
            "text/html": [
              "<div>\n",
              "<style scoped>\n",
              "    .dataframe tbody tr th:only-of-type {\n",
              "        vertical-align: middle;\n",
              "    }\n",
              "\n",
              "    .dataframe tbody tr th {\n",
              "        vertical-align: top;\n",
              "    }\n",
              "\n",
              "    .dataframe thead th {\n",
              "        text-align: right;\n",
              "    }\n",
              "</style>\n",
              "<table border=\"1\" class=\"dataframe\">\n",
              "  <thead>\n",
              "    <tr style=\"text-align: right;\">\n",
              "      <th></th>\n",
              "      <th>The</th>\n",
              "      <th>cat</th>\n",
              "      <th>dog</th>\n",
              "      <th>my</th>\n",
              "      <th>sat</th>\n",
              "      <th>on</th>\n",
              "      <th>lap</th>\n",
              "      <th>bed</th>\n",
              "    </tr>\n",
              "  </thead>\n",
              "  <tbody>\n",
              "    <tr>\n",
              "      <th>0</th>\n",
              "      <td>0.0</td>\n",
              "      <td>0.000000</td>\n",
              "      <td>0.115525</td>\n",
              "      <td>0.0</td>\n",
              "      <td>0.0</td>\n",
              "      <td>0.0</td>\n",
              "      <td>0.115525</td>\n",
              "      <td>0.000000</td>\n",
              "    </tr>\n",
              "    <tr>\n",
              "      <th>1</th>\n",
              "      <td>0.0</td>\n",
              "      <td>0.115525</td>\n",
              "      <td>0.000000</td>\n",
              "      <td>0.0</td>\n",
              "      <td>0.0</td>\n",
              "      <td>0.0</td>\n",
              "      <td>0.000000</td>\n",
              "      <td>0.115525</td>\n",
              "    </tr>\n",
              "  </tbody>\n",
              "</table>\n",
              "</div>"
            ],
            "text/plain": [
              "   The       cat       dog   my  sat   on       lap       bed\n",
              "0  0.0  0.000000  0.115525  0.0  0.0  0.0  0.115525  0.000000\n",
              "1  0.0  0.115525  0.000000  0.0  0.0  0.0  0.000000  0.115525"
            ]
          },
          "metadata": {
            "tags": []
          },
          "execution_count": 14
        }
      ]
    }
  ]
}
{
  "nbformat": 4,
  "nbformat_minor": 0,
  "metadata": {
    "colab": {
      "name": "countvectorizer.ipynb",
      "provenance": [],
      "authorship_tag": "ABX9TyPpM5usAU7ohYRCg9qdbfz/",
      "include_colab_link": true
    },
    "kernelspec": {
      "name": "python3",
      "display_name": "Python 3"
    }
  },
  "cells": [
    {
      "cell_type": "markdown",
      "metadata": {
        "id": "view-in-github",
        "colab_type": "text"
      },
      "source": [
        "<a href=\"https://colab.research.google.com/github/sadikinisaac/NLP2/blob/master/countvectorizer.ipynb\" target=\"_parent\"><img src=\"https://colab.research.google.com/assets/colab-badge.svg\" alt=\"Open In Colab\"/></a>"
      ]
    },
    {
      "cell_type": "code",
      "metadata": {
        "id": "-9Xix9BXTHBT",
        "colab_type": "code",
        "colab": {}
      },
      "source": [
        "from sklearn.feature_extraction.text import CountVectorizer"
      ],
      "execution_count": 0,
      "outputs": []
    },
    {
      "cell_type": "code",
      "metadata": {
        "id": "eViLiOu4TiBB",
        "colab_type": "code",
        "colab": {}
      },
      "source": [
        "doc=[\"One Cent, Two Cents, Old Cent, New Cent: All About Money\"]"
      ],
      "execution_count": 0,
      "outputs": []
    },
    {
      "cell_type": "code",
      "metadata": {
        "id": "bpcrwi7NTmfS",
        "colab_type": "code",
        "colab": {}
      },
      "source": [
        "cv = CountVectorizer(doc)\n",
        "count_vector=cv.fit_transform(doc)"
      ],
      "execution_count": 0,
      "outputs": []
    },
    {
      "cell_type": "code",
      "metadata": {
        "id": "S1JKVw-ZTnZl",
        "colab_type": "code",
        "colab": {
          "base_uri": "https://localhost:8080/",
          "height": 170
        },
        "outputId": "c69c4763-b320-4678-cc05-8f193503d291"
      },
      "source": [
        "# show resulting vocabulary; the numbers are not counts, they are the position in the sparse vector.\n",
        "cv.vocabulary_"
      ],
      "execution_count": 4,
      "outputs": [
        {
          "output_type": "execute_result",
          "data": {
            "text/plain": [
              "{'about': 0,\n",
              " 'all': 1,\n",
              " 'cent': 2,\n",
              " 'cents': 3,\n",
              " 'money': 4,\n",
              " 'new': 5,\n",
              " 'old': 6,\n",
              " 'one': 7,\n",
              " 'two': 8}"
            ]
          },
          "metadata": {
            "tags": []
          },
          "execution_count": 4
        }
      ]
    },
    {
      "cell_type": "code",
      "metadata": {
        "id": "M9IbuOt6To6U",
        "colab_type": "code",
        "colab": {
          "base_uri": "https://localhost:8080/",
          "height": 34
        },
        "outputId": "422daf7c-9bd3-431d-a0ba-95732401be60"
      },
      "source": [
        "# matrix shape. 1 documents, 9 unique words\n",
        "count_vector.shape"
      ],
      "execution_count": 5,
      "outputs": [
        {
          "output_type": "execute_result",
          "data": {
            "text/plain": [
              "(1, 9)"
            ]
          },
          "metadata": {
            "tags": []
          },
          "execution_count": 5
        }
      ]
    },
    {
      "cell_type": "code",
      "metadata": {
        "id": "B7O4kVDcTqRs",
        "colab_type": "code",
        "colab": {
          "base_uri": "https://localhost:8080/",
          "height": 34
        },
        "outputId": "8a9548f6-8119-43a8-e888-7a80dac8c497"
      },
      "source": [
        "# any words eliminated internally? -- nope\n",
        "cv.stop_words_"
      ],
      "execution_count": 6,
      "outputs": [
        {
          "output_type": "execute_result",
          "data": {
            "text/plain": [
              "set()"
            ]
          },
          "metadata": {
            "tags": []
          },
          "execution_count": 6
        }
      ]
    },
    {
      "cell_type": "code",
      "metadata": {
        "id": "_iE42i20Trj_",
        "colab_type": "code",
        "colab": {}
      },
      "source": [
        "#CountVectorizer w more data"
      ],
      "execution_count": 0,
      "outputs": []
    },
    {
      "cell_type": "code",
      "metadata": {
        "id": "Ag0gtKDnTus6",
        "colab_type": "code",
        "colab": {}
      },
      "source": [
        "cat_in_the_hat_docs=[\n",
        "      \"One Cent, Two Cents, Old Cent, New Cent: All About Money (Cat in the Hat's Learning Library\",\n",
        "      \"Inside Your Outside: All About the Human Body (Cat in the Hat's Learning Library)\",\n",
        "      \"Oh, The Things You Can Do That Are Good for You: All About Staying Healthy (Cat in the Hat's Learning Library)\",\n",
        "      \"On Beyond Bugs: All About Insects (Cat in the Hat's Learning Library)\",\n",
        "      \"There's No Place Like Space: All About Our Solar System (Cat in the Hat's Learning Library)\" \n",
        "     ]"
      ],
      "execution_count": 0,
      "outputs": []
    },
    {
      "cell_type": "code",
      "metadata": {
        "id": "T_hp7mGOTvzn",
        "colab_type": "code",
        "colab": {}
      },
      "source": [
        "cv = CountVectorizer(cat_in_the_hat_docs)\n",
        "count_vector=cv.fit_transform(cat_in_the_hat_docs)"
      ],
      "execution_count": 0,
      "outputs": []
    },
    {
      "cell_type": "code",
      "metadata": {
        "id": "F6LgbhN6TxPl",
        "colab_type": "code",
        "colab": {
          "base_uri": "https://localhost:8080/",
          "height": 748
        },
        "outputId": "02c7ee51-74d7-4f33-a44f-2953cc451e3a"
      },
      "source": [
        "# show resulting vocabulary; the numbers are not counts, they are the position in the sparse vector.\n",
        "cv.vocabulary_"
      ],
      "execution_count": 9,
      "outputs": [
        {
          "output_type": "execute_result",
          "data": {
            "text/plain": [
              "{'about': 0,\n",
              " 'all': 1,\n",
              " 'are': 2,\n",
              " 'beyond': 3,\n",
              " 'body': 4,\n",
              " 'bugs': 5,\n",
              " 'can': 6,\n",
              " 'cat': 7,\n",
              " 'cent': 8,\n",
              " 'cents': 9,\n",
              " 'do': 10,\n",
              " 'for': 11,\n",
              " 'good': 12,\n",
              " 'hat': 13,\n",
              " 'healthy': 14,\n",
              " 'human': 15,\n",
              " 'in': 16,\n",
              " 'insects': 17,\n",
              " 'inside': 18,\n",
              " 'learning': 19,\n",
              " 'library': 20,\n",
              " 'like': 21,\n",
              " 'money': 22,\n",
              " 'new': 23,\n",
              " 'no': 24,\n",
              " 'oh': 25,\n",
              " 'old': 26,\n",
              " 'on': 27,\n",
              " 'one': 28,\n",
              " 'our': 29,\n",
              " 'outside': 30,\n",
              " 'place': 31,\n",
              " 'solar': 32,\n",
              " 'space': 33,\n",
              " 'staying': 34,\n",
              " 'system': 35,\n",
              " 'that': 36,\n",
              " 'the': 37,\n",
              " 'there': 38,\n",
              " 'things': 39,\n",
              " 'two': 40,\n",
              " 'you': 41,\n",
              " 'your': 42}"
            ]
          },
          "metadata": {
            "tags": []
          },
          "execution_count": 9
        }
      ]
    },
    {
      "cell_type": "code",
      "metadata": {
        "id": "8SXckH15TyEx",
        "colab_type": "code",
        "colab": {
          "base_uri": "https://localhost:8080/",
          "height": 34
        },
        "outputId": "a4f086af-0486-415c-b8e7-39236bcfbb83"
      },
      "source": [
        "#shape of count vector: 5 docs (book titles) and 43 unique words\n",
        "count_vector.shape"
      ],
      "execution_count": 10,
      "outputs": [
        {
          "output_type": "execute_result",
          "data": {
            "text/plain": [
              "(5, 43)"
            ]
          },
          "metadata": {
            "tags": []
          },
          "execution_count": 10
        }
      ]
    },
    {
      "cell_type": "code",
      "metadata": {
        "id": "4TjED1qgTzzv",
        "colab_type": "code",
        "colab": {
          "base_uri": "https://localhost:8080/",
          "height": 34
        },
        "outputId": "19e58f17-9c3f-484a-b763-2298e0ebb714"
      },
      "source": [
        "#any stop words?\n",
        "cv.stop_words_"
      ],
      "execution_count": 11,
      "outputs": [
        {
          "output_type": "execute_result",
          "data": {
            "text/plain": [
              "set()"
            ]
          },
          "metadata": {
            "tags": []
          },
          "execution_count": 11
        }
      ]
    },
    {
      "cell_type": "code",
      "metadata": {
        "id": "6QqecrxQT1wI",
        "colab_type": "code",
        "colab": {}
      },
      "source": [
        "#CountVectorizer With Custom StopWords"
      ],
      "execution_count": 0,
      "outputs": []
    },
    {
      "cell_type": "code",
      "metadata": {
        "id": "jMl-EZbAT3rg",
        "colab_type": "code",
        "colab": {
          "base_uri": "https://localhost:8080/",
          "height": 34
        },
        "outputId": "d32d3b14-2ba1-4064-ecf7-d02cb805e713"
      },
      "source": [
        "cv = CountVectorizer(cat_in_the_hat_docs,stop_words=[\"all\",\"in\",\"the\",\"is\",\"and\"])\n",
        "count_vector=cv.fit_transform(cat_in_the_hat_docs)\n",
        "count_vector.shape"
      ],
      "execution_count": 12,
      "outputs": [
        {
          "output_type": "execute_result",
          "data": {
            "text/plain": [
              "(5, 40)"
            ]
          },
          "metadata": {
            "tags": []
          },
          "execution_count": 12
        }
      ]
    },
    {
      "cell_type": "code",
      "metadata": {
        "id": "sh9m1fttT48v",
        "colab_type": "code",
        "colab": {
          "base_uri": "https://localhost:8080/",
          "height": 34
        },
        "outputId": "4385436e-44b7-4f17-8153-326fdc299c64"
      },
      "source": [
        "#any stop words that we explicitly specified?\n",
        "cv.stop_words"
      ],
      "execution_count": 13,
      "outputs": [
        {
          "output_type": "execute_result",
          "data": {
            "text/plain": [
              "['all', 'in', 'the', 'is', 'and']"
            ]
          },
          "metadata": {
            "tags": []
          },
          "execution_count": 13
        }
      ]
    },
    {
      "cell_type": "code",
      "metadata": {
        "id": "k94pgT_MT6bK",
        "colab_type": "code",
        "colab": {
          "base_uri": "https://localhost:8080/",
          "height": 34
        },
        "outputId": "f7e0c920-61dd-4ccd-cc47-fd08ec57f86d"
      },
      "source": [
        "#any stop words internally stopped by countvectorizer?\n",
        "cv.stop_words_"
      ],
      "execution_count": 14,
      "outputs": [
        {
          "output_type": "execute_result",
          "data": {
            "text/plain": [
              "set()"
            ]
          },
          "metadata": {
            "tags": []
          },
          "execution_count": 14
        }
      ]
    },
    {
      "cell_type": "code",
      "metadata": {
        "id": "6NHx1zi0T7Tz",
        "colab_type": "code",
        "colab": {}
      },
      "source": [
        "#CountVectorizer With Predefined StopWords"
      ],
      "execution_count": 0,
      "outputs": []
    },
    {
      "cell_type": "code",
      "metadata": {
        "id": "5iaVDN7QT-Jl",
        "colab_type": "code",
        "colab": {}
      },
      "source": [
        "cv = CountVectorizer(cat_in_the_hat_docs,stop_words=\"english\")\n",
        "count_vector=cv.fit_transform(cat_in_the_hat_docs)"
      ],
      "execution_count": 0,
      "outputs": []
    },
    {
      "cell_type": "code",
      "metadata": {
        "id": "NNWYDLHUT_M2",
        "colab_type": "code",
        "colab": {
          "base_uri": "https://localhost:8080/",
          "height": 34
        },
        "outputId": "18b95b76-6423-416e-d1b9-28b68796962b"
      },
      "source": [
        "# the shape should be smaller\n",
        "count_vector.shape"
      ],
      "execution_count": 16,
      "outputs": [
        {
          "output_type": "execute_result",
          "data": {
            "text/plain": [
              "(5, 24)"
            ]
          },
          "metadata": {
            "tags": []
          },
          "execution_count": 16
        }
      ]
    },
    {
      "cell_type": "code",
      "metadata": {
        "id": "i2UdsSOPUAmF",
        "colab_type": "code",
        "colab": {
          "base_uri": "https://localhost:8080/",
          "height": 34
        },
        "outputId": "54daeecb-7e03-4180-bb4d-0b6aaae87e4e"
      },
      "source": [
        "#any stop words that we explicitly specified?\n",
        "cv.stop_words"
      ],
      "execution_count": 17,
      "outputs": [
        {
          "output_type": "execute_result",
          "data": {
            "text/plain": [
              "'english'"
            ]
          },
          "metadata": {
            "tags": []
          },
          "execution_count": 17
        }
      ]
    },
    {
      "cell_type": "code",
      "metadata": {
        "id": "ZkYJ73gyUBnz",
        "colab_type": "code",
        "colab": {
          "base_uri": "https://localhost:8080/",
          "height": 34
        },
        "outputId": "e824fe02-971d-46b7-eeb8-7713bfe1631d"
      },
      "source": [
        "#any stop words internally stopped by countvectorizer?\n",
        "cv.stop_words_"
      ],
      "execution_count": 18,
      "outputs": [
        {
          "output_type": "execute_result",
          "data": {
            "text/plain": [
              "set()"
            ]
          },
          "metadata": {
            "tags": []
          },
          "execution_count": 18
        }
      ]
    },
    {
      "cell_type": "code",
      "metadata": {
        "id": "h-HUpSbWUCjO",
        "colab_type": "code",
        "colab": {
          "base_uri": "https://localhost:8080/",
          "height": 425
        },
        "outputId": "06e17f4d-4478-438a-affc-597dc51ab65f"
      },
      "source": [
        "# much smaller vocabulary with stopwords applied\n",
        "cv.vocabulary_"
      ],
      "execution_count": 19,
      "outputs": [
        {
          "output_type": "execute_result",
          "data": {
            "text/plain": [
              "{'body': 0,\n",
              " 'bugs': 1,\n",
              " 'cat': 2,\n",
              " 'cent': 3,\n",
              " 'cents': 4,\n",
              " 'good': 5,\n",
              " 'hat': 6,\n",
              " 'healthy': 7,\n",
              " 'human': 8,\n",
              " 'insects': 9,\n",
              " 'inside': 10,\n",
              " 'learning': 11,\n",
              " 'library': 12,\n",
              " 'like': 13,\n",
              " 'money': 14,\n",
              " 'new': 15,\n",
              " 'oh': 16,\n",
              " 'old': 17,\n",
              " 'outside': 18,\n",
              " 'place': 19,\n",
              " 'solar': 20,\n",
              " 'space': 21,\n",
              " 'staying': 22,\n",
              " 'things': 23}"
            ]
          },
          "metadata": {
            "tags": []
          },
          "execution_count": 19
        }
      ]
    },
    {
      "cell_type": "code",
      "metadata": {
        "id": "rxvNb3UBUDxs",
        "colab_type": "code",
        "colab": {}
      },
      "source": [
        "#CountVectorizer with MIN_DF as StopWords"
      ],
      "execution_count": 0,
      "outputs": []
    },
    {
      "cell_type": "code",
      "metadata": {
        "id": "9zB7K8y5UF_3",
        "colab_type": "code",
        "colab": {}
      },
      "source": [
        "# ignore terms that appeared in less than n documents (can be proportion or absolute counts)\n",
        "cv = CountVectorizer(cat_in_the_hat_docs,min_df=2)\n",
        "count_vector=cv.fit_transform(cat_in_the_hat_docs)"
      ],
      "execution_count": 0,
      "outputs": []
    },
    {
      "cell_type": "code",
      "metadata": {
        "id": "woNPRDisUG3d",
        "colab_type": "code",
        "colab": {
          "base_uri": "https://localhost:8080/",
          "height": 612
        },
        "outputId": "c017a4d4-1f81-48aa-f0e8-b7b8d2ca474c"
      },
      "source": [
        "#any stop words internally stopped by countvectorizer?\n",
        "cv.stop_words_"
      ],
      "execution_count": 21,
      "outputs": [
        {
          "output_type": "execute_result",
          "data": {
            "text/plain": [
              "{'are',\n",
              " 'beyond',\n",
              " 'body',\n",
              " 'bugs',\n",
              " 'can',\n",
              " 'cent',\n",
              " 'cents',\n",
              " 'do',\n",
              " 'for',\n",
              " 'good',\n",
              " 'healthy',\n",
              " 'human',\n",
              " 'insects',\n",
              " 'inside',\n",
              " 'like',\n",
              " 'money',\n",
              " 'new',\n",
              " 'no',\n",
              " 'oh',\n",
              " 'old',\n",
              " 'on',\n",
              " 'one',\n",
              " 'our',\n",
              " 'outside',\n",
              " 'place',\n",
              " 'solar',\n",
              " 'space',\n",
              " 'staying',\n",
              " 'system',\n",
              " 'that',\n",
              " 'there',\n",
              " 'things',\n",
              " 'two',\n",
              " 'you',\n",
              " 'your'}"
            ]
          },
          "metadata": {
            "tags": []
          },
          "execution_count": 21
        }
      ]
    },
    {
      "cell_type": "code",
      "metadata": {
        "id": "rrem3OiBUHwL",
        "colab_type": "code",
        "colab": {
          "base_uri": "https://localhost:8080/",
          "height": 34
        },
        "outputId": "0ad9565d-a837-4d2f-b9c0-6e7fc929c6ca"
      },
      "source": [
        "count_vector.shape"
      ],
      "execution_count": 22,
      "outputs": [
        {
          "output_type": "execute_result",
          "data": {
            "text/plain": [
              "(5, 8)"
            ]
          },
          "metadata": {
            "tags": []
          },
          "execution_count": 22
        }
      ]
    },
    {
      "cell_type": "code",
      "metadata": {
        "id": "_bmvHef9UJFQ",
        "colab_type": "code",
        "colab": {}
      },
      "source": [
        "# use proportion here. Ignore terms that occurred in less than 25% of the documents\n",
        "cv = CountVectorizer(cat_in_the_hat_docs,min_df=0.25)\n",
        "count_vector=cv.fit_transform(cat_in_the_hat_docs)"
      ],
      "execution_count": 0,
      "outputs": []
    },
    {
      "cell_type": "code",
      "metadata": {
        "id": "AHCzjAFvUJ_p",
        "colab_type": "code",
        "colab": {
          "base_uri": "https://localhost:8080/",
          "height": 34
        },
        "outputId": "e027688d-8b85-4806-c03e-f3c11ad74be2"
      },
      "source": [
        "count_vector.shape"
      ],
      "execution_count": 24,
      "outputs": [
        {
          "output_type": "execute_result",
          "data": {
            "text/plain": [
              "(5, 8)"
            ]
          },
          "metadata": {
            "tags": []
          },
          "execution_count": 24
        }
      ]
    },
    {
      "cell_type": "code",
      "metadata": {
        "id": "TAMIwvyjULPo",
        "colab_type": "code",
        "colab": {
          "base_uri": "https://localhost:8080/",
          "height": 153
        },
        "outputId": "2e425aae-c9b9-400a-d73c-0e42ff019236"
      },
      "source": [
        "cv.vocabulary_\n"
      ],
      "execution_count": 25,
      "outputs": [
        {
          "output_type": "execute_result",
          "data": {
            "text/plain": [
              "{'about': 0,\n",
              " 'all': 1,\n",
              " 'cat': 2,\n",
              " 'hat': 3,\n",
              " 'in': 4,\n",
              " 'learning': 5,\n",
              " 'library': 6,\n",
              " 'the': 7}"
            ]
          },
          "metadata": {
            "tags": []
          },
          "execution_count": 25
        }
      ]
    },
    {
      "cell_type": "code",
      "metadata": {
        "id": "a77TtPptUNoi",
        "colab_type": "code",
        "colab": {
          "base_uri": "https://localhost:8080/",
          "height": 612
        },
        "outputId": "9d4ec689-fd52-4ff1-e5ac-50e7a47c8ede"
      },
      "source": [
        "#any stop words internally stopped by countvectorizer?\n",
        "cv.stop_words_"
      ],
      "execution_count": 26,
      "outputs": [
        {
          "output_type": "execute_result",
          "data": {
            "text/plain": [
              "{'are',\n",
              " 'beyond',\n",
              " 'body',\n",
              " 'bugs',\n",
              " 'can',\n",
              " 'cent',\n",
              " 'cents',\n",
              " 'do',\n",
              " 'for',\n",
              " 'good',\n",
              " 'healthy',\n",
              " 'human',\n",
              " 'insects',\n",
              " 'inside',\n",
              " 'like',\n",
              " 'money',\n",
              " 'new',\n",
              " 'no',\n",
              " 'oh',\n",
              " 'old',\n",
              " 'on',\n",
              " 'one',\n",
              " 'our',\n",
              " 'outside',\n",
              " 'place',\n",
              " 'solar',\n",
              " 'space',\n",
              " 'staying',\n",
              " 'system',\n",
              " 'that',\n",
              " 'there',\n",
              " 'things',\n",
              " 'two',\n",
              " 'you',\n",
              " 'your'}"
            ]
          },
          "metadata": {
            "tags": []
          },
          "execution_count": 26
        }
      ]
    },
    {
      "cell_type": "code",
      "metadata": {
        "id": "6zIjLt7LUOwk",
        "colab_type": "code",
        "colab": {}
      },
      "source": [
        "#CountVectorizer with MAX_DF as StopWords"
      ],
      "execution_count": 0,
      "outputs": []
    },
    {
      "cell_type": "code",
      "metadata": {
        "id": "lJakJE5JUUDl",
        "colab_type": "code",
        "colab": {}
      },
      "source": [
        "# ignore terms that appeared in more than n documents (can be proportion or absolute counts)\n",
        "# use proportion here\n",
        "cv = CountVectorizer(cat_in_the_hat_docs,max_df=0.50)\n",
        "count_vector=cv.fit_transform(cat_in_the_hat_docs)"
      ],
      "execution_count": 0,
      "outputs": []
    },
    {
      "cell_type": "code",
      "metadata": {
        "id": "dudrPcirUVNS",
        "colab_type": "code",
        "colab": {
          "base_uri": "https://localhost:8080/",
          "height": 612
        },
        "outputId": "53a28ed4-fce9-462a-df5a-2623e4f9183f"
      },
      "source": [
        "cv.vocabulary_"
      ],
      "execution_count": 28,
      "outputs": [
        {
          "output_type": "execute_result",
          "data": {
            "text/plain": [
              "{'are': 0,\n",
              " 'beyond': 1,\n",
              " 'body': 2,\n",
              " 'bugs': 3,\n",
              " 'can': 4,\n",
              " 'cent': 5,\n",
              " 'cents': 6,\n",
              " 'do': 7,\n",
              " 'for': 8,\n",
              " 'good': 9,\n",
              " 'healthy': 10,\n",
              " 'human': 11,\n",
              " 'insects': 12,\n",
              " 'inside': 13,\n",
              " 'like': 14,\n",
              " 'money': 15,\n",
              " 'new': 16,\n",
              " 'no': 17,\n",
              " 'oh': 18,\n",
              " 'old': 19,\n",
              " 'on': 20,\n",
              " 'one': 21,\n",
              " 'our': 22,\n",
              " 'outside': 23,\n",
              " 'place': 24,\n",
              " 'solar': 25,\n",
              " 'space': 26,\n",
              " 'staying': 27,\n",
              " 'system': 28,\n",
              " 'that': 29,\n",
              " 'there': 30,\n",
              " 'things': 31,\n",
              " 'two': 32,\n",
              " 'you': 33,\n",
              " 'your': 34}"
            ]
          },
          "metadata": {
            "tags": []
          },
          "execution_count": 28
        }
      ]
    },
    {
      "cell_type": "code",
      "metadata": {
        "id": "DmYLTmV2UWEe",
        "colab_type": "code",
        "colab": {
          "base_uri": "https://localhost:8080/",
          "height": 34
        },
        "outputId": "44c10e89-0839-48a2-afbe-358d5b5094f1"
      },
      "source": [
        "cv.stop_words_"
      ],
      "execution_count": 29,
      "outputs": [
        {
          "output_type": "execute_result",
          "data": {
            "text/plain": [
              "{'about', 'all', 'cat', 'hat', 'in', 'learning', 'library', 'the'}"
            ]
          },
          "metadata": {
            "tags": []
          },
          "execution_count": 29
        }
      ]
    },
    {
      "cell_type": "code",
      "metadata": {
        "id": "_MCXy9kSUXQu",
        "colab_type": "code",
        "colab": {}
      },
      "source": [
        "# ignore terms that appeared in more than n documents (can be proportion or absolute counts)\n",
        "# use absolute values here - suitable when you know number of documents ahead of time and are dealing with only a handful\n",
        "cv = CountVectorizer(cat_in_the_hat_docs,max_df=4)\n",
        "count_vector=cv.fit_transform(cat_in_the_hat_docs)"
      ],
      "execution_count": 0,
      "outputs": []
    },
    {
      "cell_type": "code",
      "metadata": {
        "id": "lRkD0vj6UYQ8",
        "colab_type": "code",
        "colab": {
          "base_uri": "https://localhost:8080/",
          "height": 34
        },
        "outputId": "49ffa952-7535-436d-ad70-461395f994bd"
      },
      "source": [
        "cv.stop_words_"
      ],
      "execution_count": 31,
      "outputs": [
        {
          "output_type": "execute_result",
          "data": {
            "text/plain": [
              "{'about', 'all', 'cat', 'hat', 'in', 'learning', 'library', 'the'}"
            ]
          },
          "metadata": {
            "tags": []
          },
          "execution_count": 31
        }
      ]
    },
    {
      "cell_type": "code",
      "metadata": {
        "id": "IORpjeJ5UZ3t",
        "colab_type": "code",
        "colab": {}
      },
      "source": [
        "#Custom Preprocessing"
      ],
      "execution_count": 0,
      "outputs": []
    },
    {
      "cell_type": "code",
      "metadata": {
        "id": "NmJeGPNPUbtz",
        "colab_type": "code",
        "colab": {}
      },
      "source": [
        "import re\n",
        "import nltk\n",
        "import pandas as pd\n",
        "from nltk.stem import PorterStemmer\n",
        "\n",
        "# init stemmer\n",
        "porter_stemmer=PorterStemmer()\n",
        "\n",
        "def my_cool_preprocessor(text):\n",
        "    \n",
        "    text=text.lower() \n",
        "    text=re.sub(\"\\\\W\",\" \",text) # remove special chars\n",
        "    text=re.sub(\"\\\\s+(in|the|all|for|and|on)\\\\s+\",\" _connector_ \",text) # normalize certain words\n",
        "    \n",
        "    # stem words\n",
        "    words=re.split(\"\\\\s+\",text)\n",
        "    stemmed_words=[porter_stemmer.stem(word=word) for word in words]\n",
        "    return ' '.join(stemmed_words)\n",
        "\n",
        "cv = CountVectorizer(cat_in_the_hat_docs,preprocessor=my_cool_preprocessor)\n",
        "count_vector=cv.fit_transform(cat_in_the_hat_docs)"
      ],
      "execution_count": 0,
      "outputs": []
    },
    {
      "cell_type": "code",
      "metadata": {
        "id": "HoEwLtzEUdcy",
        "colab_type": "code",
        "colab": {
          "base_uri": "https://localhost:8080/",
          "height": 697
        },
        "outputId": "380dc5b2-cc49-4081-ab90-402107524dd5"
      },
      "source": [
        "cv.vocabulary_"
      ],
      "execution_count": 33,
      "outputs": [
        {
          "output_type": "execute_result",
          "data": {
            "text/plain": [
              "{'_connector_': 0,\n",
              " 'about': 1,\n",
              " 'are': 2,\n",
              " 'beyond': 3,\n",
              " 'bodi': 4,\n",
              " 'bug': 5,\n",
              " 'can': 6,\n",
              " 'cat': 7,\n",
              " 'cent': 8,\n",
              " 'do': 9,\n",
              " 'good': 10,\n",
              " 'hat': 11,\n",
              " 'healthi': 12,\n",
              " 'human': 13,\n",
              " 'insect': 14,\n",
              " 'insid': 15,\n",
              " 'learn': 16,\n",
              " 'librari': 17,\n",
              " 'like': 18,\n",
              " 'money': 19,\n",
              " 'new': 20,\n",
              " 'no': 21,\n",
              " 'oh': 22,\n",
              " 'old': 23,\n",
              " 'on': 24,\n",
              " 'one': 25,\n",
              " 'our': 26,\n",
              " 'outsid': 27,\n",
              " 'place': 28,\n",
              " 'solar': 29,\n",
              " 'space': 30,\n",
              " 'stay': 31,\n",
              " 'system': 32,\n",
              " 'that': 33,\n",
              " 'the': 34,\n",
              " 'there': 35,\n",
              " 'thing': 36,\n",
              " 'two': 37,\n",
              " 'you': 38,\n",
              " 'your': 39}"
            ]
          },
          "metadata": {
            "tags": []
          },
          "execution_count": 33
        }
      ]
    },
    {
      "cell_type": "code",
      "metadata": {
        "id": "NuiClSExUef9",
        "colab_type": "code",
        "colab": {}
      },
      "source": [
        "cv = CountVectorizer(cat_in_the_hat_docs,preprocessor=my_cool_preprocessor)\n",
        "count_vector=cv.fit_transform(cat_in_the_hat_docs)"
      ],
      "execution_count": 0,
      "outputs": []
    },
    {
      "cell_type": "code",
      "metadata": {
        "id": "hQgB15kwUgWU",
        "colab_type": "code",
        "colab": {}
      },
      "source": [
        "#Working With N-Grams"
      ],
      "execution_count": 0,
      "outputs": []
    },
    {
      "cell_type": "code",
      "metadata": {
        "id": "qh0uWF4AUgvS",
        "colab_type": "code",
        "colab": {}
      },
      "source": [
        "#only bigrams, word level\n",
        "cv = CountVectorizer(cat_in_the_hat_docs,ngram_range=(2,2),preprocessor=my_cool_preprocessor)\n",
        "count_vector=cv.fit_transform(cat_in_the_hat_docs)"
      ],
      "execution_count": 0,
      "outputs": []
    },
    {
      "cell_type": "code",
      "metadata": {
        "id": "gByaDBpFUi4x",
        "colab_type": "code",
        "colab": {
          "base_uri": "https://localhost:8080/",
          "height": 884
        },
        "outputId": "2ab080ff-acfb-451d-a183-bc5b82ac391c"
      },
      "source": [
        "cv.vocabulary_"
      ],
      "execution_count": 36,
      "outputs": [
        {
          "output_type": "execute_result",
          "data": {
            "text/plain": [
              "{'_connector_ about': 0,\n",
              " '_connector_ human': 1,\n",
              " '_connector_ the': 2,\n",
              " '_connector_ thing': 3,\n",
              " '_connector_ you': 4,\n",
              " 'about _connector_': 5,\n",
              " 'about insect': 6,\n",
              " 'about money': 7,\n",
              " 'about our': 8,\n",
              " 'about stay': 9,\n",
              " 'are good': 10,\n",
              " 'beyond bug': 11,\n",
              " 'bodi cat': 12,\n",
              " 'bug _connector_': 13,\n",
              " 'can do': 14,\n",
              " 'cat _connector_': 15,\n",
              " 'cent _connector_': 16,\n",
              " 'cent new': 17,\n",
              " 'cent old': 18,\n",
              " 'cent two': 19,\n",
              " 'do that': 20,\n",
              " 'good _connector_': 21,\n",
              " 'hat learn': 22,\n",
              " 'healthi cat': 23,\n",
              " 'human bodi': 24,\n",
              " 'insect cat': 25,\n",
              " 'insid your': 26,\n",
              " 'learn librari': 27,\n",
              " 'like space': 28,\n",
              " 'money cat': 29,\n",
              " 'new cent': 30,\n",
              " 'no place': 31,\n",
              " 'oh _connector_': 32,\n",
              " 'old cent': 33,\n",
              " 'on beyond': 34,\n",
              " 'one cent': 35,\n",
              " 'our solar': 36,\n",
              " 'outsid _connector_': 37,\n",
              " 'place like': 38,\n",
              " 'solar system': 39,\n",
              " 'space _connector_': 40,\n",
              " 'stay healthi': 41,\n",
              " 'system cat': 42,\n",
              " 'that are': 43,\n",
              " 'the hat': 44,\n",
              " 'there no': 45,\n",
              " 'thing you': 46,\n",
              " 'two cent': 47,\n",
              " 'you _connector_': 48,\n",
              " 'you can': 49,\n",
              " 'your outsid': 50}"
            ]
          },
          "metadata": {
            "tags": []
          },
          "execution_count": 36
        }
      ]
    },
    {
      "cell_type": "code",
      "metadata": {
        "id": "FqivFWpyUkGT",
        "colab_type": "code",
        "colab": {
          "base_uri": "https://localhost:8080/",
          "height": 34
        },
        "outputId": "3bc9c4d1-7780-4e6b-f31c-717ce7f95063"
      },
      "source": [
        "count_vector.shape"
      ],
      "execution_count": 37,
      "outputs": [
        {
          "output_type": "execute_result",
          "data": {
            "text/plain": [
              "(5, 51)"
            ]
          },
          "metadata": {
            "tags": []
          },
          "execution_count": 37
        }
      ]
    },
    {
      "cell_type": "code",
      "metadata": {
        "id": "nxVWdNK0UlPw",
        "colab_type": "code",
        "colab": {}
      },
      "source": [
        "#only bigrams and unigrams\n",
        "cv = CountVectorizer(cat_in_the_hat_docs,ngram_range=(1,2),preprocessor=my_cool_preprocessor)\n",
        "count_vector=cv.fit_transform(cat_in_the_hat_docs)"
      ],
      "execution_count": 0,
      "outputs": []
    },
    {
      "cell_type": "code",
      "metadata": {
        "id": "ylczzdniUmce",
        "colab_type": "code",
        "colab": {
          "base_uri": "https://localhost:8080/",
          "height": 1000
        },
        "outputId": "a77f5a5d-f6e8-4af6-c4dd-43b249f392ba"
      },
      "source": [
        "cv.vocabulary_"
      ],
      "execution_count": 39,
      "outputs": [
        {
          "output_type": "execute_result",
          "data": {
            "text/plain": [
              "{'_connector_': 0,\n",
              " '_connector_ about': 1,\n",
              " '_connector_ human': 2,\n",
              " '_connector_ the': 3,\n",
              " '_connector_ thing': 4,\n",
              " '_connector_ you': 5,\n",
              " 'about': 6,\n",
              " 'about _connector_': 7,\n",
              " 'about insect': 8,\n",
              " 'about money': 9,\n",
              " 'about our': 10,\n",
              " 'about stay': 11,\n",
              " 'are': 12,\n",
              " 'are good': 13,\n",
              " 'beyond': 14,\n",
              " 'beyond bug': 15,\n",
              " 'bodi': 16,\n",
              " 'bodi cat': 17,\n",
              " 'bug': 18,\n",
              " 'bug _connector_': 19,\n",
              " 'can': 20,\n",
              " 'can do': 21,\n",
              " 'cat': 22,\n",
              " 'cat _connector_': 23,\n",
              " 'cent': 24,\n",
              " 'cent _connector_': 25,\n",
              " 'cent new': 26,\n",
              " 'cent old': 27,\n",
              " 'cent two': 28,\n",
              " 'do': 29,\n",
              " 'do that': 30,\n",
              " 'good': 31,\n",
              " 'good _connector_': 32,\n",
              " 'hat': 33,\n",
              " 'hat learn': 34,\n",
              " 'healthi': 35,\n",
              " 'healthi cat': 36,\n",
              " 'human': 37,\n",
              " 'human bodi': 38,\n",
              " 'insect': 39,\n",
              " 'insect cat': 40,\n",
              " 'insid': 41,\n",
              " 'insid your': 42,\n",
              " 'learn': 43,\n",
              " 'learn librari': 44,\n",
              " 'librari': 45,\n",
              " 'like': 46,\n",
              " 'like space': 47,\n",
              " 'money': 48,\n",
              " 'money cat': 49,\n",
              " 'new': 50,\n",
              " 'new cent': 51,\n",
              " 'no': 52,\n",
              " 'no place': 53,\n",
              " 'oh': 54,\n",
              " 'oh _connector_': 55,\n",
              " 'old': 56,\n",
              " 'old cent': 57,\n",
              " 'on': 58,\n",
              " 'on beyond': 59,\n",
              " 'one': 60,\n",
              " 'one cent': 61,\n",
              " 'our': 62,\n",
              " 'our solar': 63,\n",
              " 'outsid': 64,\n",
              " 'outsid _connector_': 65,\n",
              " 'place': 66,\n",
              " 'place like': 67,\n",
              " 'solar': 68,\n",
              " 'solar system': 69,\n",
              " 'space': 70,\n",
              " 'space _connector_': 71,\n",
              " 'stay': 72,\n",
              " 'stay healthi': 73,\n",
              " 'system': 74,\n",
              " 'system cat': 75,\n",
              " 'that': 76,\n",
              " 'that are': 77,\n",
              " 'the': 78,\n",
              " 'the hat': 79,\n",
              " 'there': 80,\n",
              " 'there no': 81,\n",
              " 'thing': 82,\n",
              " 'thing you': 83,\n",
              " 'two': 84,\n",
              " 'two cent': 85,\n",
              " 'you': 86,\n",
              " 'you _connector_': 87,\n",
              " 'you can': 88,\n",
              " 'your': 89,\n",
              " 'your outsid': 90}"
            ]
          },
          "metadata": {
            "tags": []
          },
          "execution_count": 39
        }
      ]
    },
    {
      "cell_type": "code",
      "metadata": {
        "id": "D2wei4lHUnWJ",
        "colab_type": "code",
        "colab": {
          "base_uri": "https://localhost:8080/",
          "height": 34
        },
        "outputId": "c6ae1f00-3e25-486b-a764-cc4ad1fc8fce"
      },
      "source": [
        "count_vector.shape"
      ],
      "execution_count": 40,
      "outputs": [
        {
          "output_type": "execute_result",
          "data": {
            "text/plain": [
              "(5, 91)"
            ]
          },
          "metadata": {
            "tags": []
          },
          "execution_count": 40
        }
      ]
    },
    {
      "cell_type": "code",
      "metadata": {
        "id": "3utUBMjXUo6v",
        "colab_type": "code",
        "colab": {}
      },
      "source": [
        "#Working With Character N-Grams"
      ],
      "execution_count": 0,
      "outputs": []
    },
    {
      "cell_type": "code",
      "metadata": {
        "id": "jBczW9x3Uqdj",
        "colab_type": "code",
        "colab": {}
      },
      "source": [
        "#only character level bigrams \n",
        "cv = CountVectorizer(cat_in_the_hat_docs,ngram_range=(2,2),preprocessor=my_cool_preprocessor,analyzer='char_wb')\n",
        "count_vector=cv.fit_transform(cat_in_the_hat_docs)"
      ],
      "execution_count": 0,
      "outputs": []
    },
    {
      "cell_type": "code",
      "metadata": {
        "id": "WaGmdIk1Usdm",
        "colab_type": "code",
        "colab": {
          "base_uri": "https://localhost:8080/",
          "height": 1000
        },
        "outputId": "fa30e2b6-1456-4670-abf5-8511e2a7e27e"
      },
      "source": [
        "cv.vocabulary_"
      ],
      "execution_count": 42,
      "outputs": [
        {
          "output_type": "execute_result",
          "data": {
            "text/plain": [
              "{' _': 0,\n",
              " ' a': 1,\n",
              " ' b': 2,\n",
              " ' c': 3,\n",
              " ' d': 4,\n",
              " ' g': 5,\n",
              " ' h': 6,\n",
              " ' i': 7,\n",
              " ' l': 8,\n",
              " ' m': 9,\n",
              " ' n': 10,\n",
              " ' o': 11,\n",
              " ' p': 12,\n",
              " ' s': 13,\n",
              " ' t': 14,\n",
              " ' y': 15,\n",
              " '_ ': 16,\n",
              " '_c': 17,\n",
              " 'ab': 18,\n",
              " 'ac': 19,\n",
              " 'al': 20,\n",
              " 'an': 21,\n",
              " 'ar': 22,\n",
              " 'at': 23,\n",
              " 'ay': 24,\n",
              " 'be': 25,\n",
              " 'bo': 26,\n",
              " 'br': 27,\n",
              " 'bu': 28,\n",
              " 'ca': 29,\n",
              " 'ce': 30,\n",
              " 'co': 31,\n",
              " 'ct': 32,\n",
              " 'd ': 33,\n",
              " 'di': 34,\n",
              " 'do': 35,\n",
              " 'e ': 36,\n",
              " 'ea': 37,\n",
              " 'ec': 38,\n",
              " 'em': 39,\n",
              " 'en': 40,\n",
              " 'er': 41,\n",
              " 'ew': 42,\n",
              " 'ey': 43,\n",
              " 'g ': 44,\n",
              " 'go': 45,\n",
              " 'h ': 46,\n",
              " 'ha': 47,\n",
              " 'he': 48,\n",
              " 'hi': 49,\n",
              " 'hu': 50,\n",
              " 'i ': 51,\n",
              " 'ib': 52,\n",
              " 'id': 53,\n",
              " 'ik': 54,\n",
              " 'in': 55,\n",
              " 'ke': 56,\n",
              " 'la': 57,\n",
              " 'ld': 58,\n",
              " 'le': 59,\n",
              " 'li': 60,\n",
              " 'lt': 61,\n",
              " 'm ': 62,\n",
              " 'ma': 63,\n",
              " 'mo': 64,\n",
              " 'n ': 65,\n",
              " 'nd': 66,\n",
              " 'ne': 67,\n",
              " 'ng': 68,\n",
              " 'nn': 69,\n",
              " 'no': 70,\n",
              " 'ns': 71,\n",
              " 'nt': 72,\n",
              " 'o ': 73,\n",
              " 'od': 74,\n",
              " 'oh': 75,\n",
              " 'ol': 76,\n",
              " 'on': 77,\n",
              " 'oo': 78,\n",
              " 'or': 79,\n",
              " 'ou': 80,\n",
              " 'pa': 81,\n",
              " 'pl': 82,\n",
              " 'r ': 83,\n",
              " 'r_': 84,\n",
              " 'ra': 85,\n",
              " 're': 86,\n",
              " 'ri': 87,\n",
              " 'rn': 88,\n",
              " 's ': 89,\n",
              " 'se': 90,\n",
              " 'si': 91,\n",
              " 'so': 92,\n",
              " 'sp': 93,\n",
              " 'st': 94,\n",
              " 'sy': 95,\n",
              " 't ': 96,\n",
              " 'ta': 97,\n",
              " 'te': 98,\n",
              " 'th': 99,\n",
              " 'to': 100,\n",
              " 'ts': 101,\n",
              " 'tw': 102,\n",
              " 'u ': 103,\n",
              " 'ug': 104,\n",
              " 'um': 105,\n",
              " 'ur': 106,\n",
              " 'ut': 107,\n",
              " 'w ': 108,\n",
              " 'wo': 109,\n",
              " 'y ': 110,\n",
              " 'yo': 111,\n",
              " 'ys': 112}"
            ]
          },
          "metadata": {
            "tags": []
          },
          "execution_count": 42
        }
      ]
    },
    {
      "cell_type": "code",
      "metadata": {
        "id": "zSAfbqzxUtSD",
        "colab_type": "code",
        "colab": {
          "base_uri": "https://localhost:8080/",
          "height": 34
        },
        "outputId": "01b7bc62-19bd-4785-cbe4-c54bf4338a47"
      },
      "source": [
        "count_vector.shape"
      ],
      "execution_count": 43,
      "outputs": [
        {
          "output_type": "execute_result",
          "data": {
            "text/plain": [
              "(5, 113)"
            ]
          },
          "metadata": {
            "tags": []
          },
          "execution_count": 43
        }
      ]
    },
    {
      "cell_type": "code",
      "metadata": {
        "id": "_zl1v523Uu6U",
        "colab_type": "code",
        "colab": {}
      },
      "source": [
        "#Limiting Vocabulary Size"
      ],
      "execution_count": 0,
      "outputs": []
    },
    {
      "cell_type": "code",
      "metadata": {
        "id": "1XEjjfvNUvM4",
        "colab_type": "code",
        "colab": {}
      },
      "source": [
        "#only bigrams and unigrams, limit to vocab size of 10\n",
        "cv = CountVectorizer(cat_in_the_hat_docs,ngram_range=(1,2),preprocessor=my_cool_preprocessor,analyzer='word',max_features=10)\n",
        "count_vector=cv.fit_transform(cat_in_the_hat_docs)"
      ],
      "execution_count": 0,
      "outputs": []
    },
    {
      "cell_type": "code",
      "metadata": {
        "id": "FzOL6zJUUxeI",
        "colab_type": "code",
        "colab": {
          "base_uri": "https://localhost:8080/",
          "height": 34
        },
        "outputId": "3086ffe5-8f07-4baa-f196-b3cc8a58b6e7"
      },
      "source": [
        "count_vector.shape"
      ],
      "execution_count": 45,
      "outputs": [
        {
          "output_type": "execute_result",
          "data": {
            "text/plain": [
              "(5, 10)"
            ]
          },
          "metadata": {
            "tags": []
          },
          "execution_count": 45
        }
      ]
    },
    {
      "cell_type": "code",
      "metadata": {
        "id": "WQ51Y3oCUyiH",
        "colab_type": "code",
        "colab": {
          "base_uri": "https://localhost:8080/",
          "height": 187
        },
        "outputId": "596bd3d8-95f0-4f3a-a4be-4c94e79bbeb3"
      },
      "source": [
        "cv.vocabulary_"
      ],
      "execution_count": 46,
      "outputs": [
        {
          "output_type": "execute_result",
          "data": {
            "text/plain": [
              "{'_connector_': 0,\n",
              " 'cat': 1,\n",
              " 'cat _connector_': 2,\n",
              " 'hat': 3,\n",
              " 'hat learn': 4,\n",
              " 'learn': 5,\n",
              " 'learn librari': 6,\n",
              " 'librari': 7,\n",
              " 'the': 8,\n",
              " 'the hat': 9}"
            ]
          },
          "metadata": {
            "tags": []
          },
          "execution_count": 46
        }
      ]
    },
    {
      "cell_type": "code",
      "metadata": {
        "id": "cZ0nRoGOUzjm",
        "colab_type": "code",
        "colab": {}
      },
      "source": [
        "#Extracting Counts of Words / N-Grams"
      ],
      "execution_count": 0,
      "outputs": []
    },
    {
      "cell_type": "code",
      "metadata": {
        "id": "jKbaE_UAU1Mx",
        "colab_type": "code",
        "colab": {}
      },
      "source": [
        "def sort_coo(coo_matrix):\n",
        "    tuples = zip(coo_matrix.col, coo_matrix.data)\n",
        "    return sorted(tuples, key=lambda x: (x[1], x[0]), reverse=True)\n",
        " \n",
        "def extract_topn_from_vector(feature_names, sorted_items, topn=10):\n",
        "    \"\"\"return n-gram counts in descending order of counts\"\"\"\n",
        "    \n",
        "    #use only topn items from vector\n",
        "    sorted_items = sorted_items[:topn]\n",
        " \n",
        "    score_vals = []\n",
        "    feature_vals = []\n",
        "    results=[]\n",
        "    \n",
        "    # word index, count i\n",
        "    for idx, count in sorted_items:\n",
        "        \n",
        "        # get the ngram name\n",
        "        n_gram=feature_names[idx]\n",
        "        \n",
        "        # collect as a list of tuples\n",
        "        results.append((n_gram,count))\n",
        " \n",
        "    return results"
      ],
      "execution_count": 0,
      "outputs": []
    },
    {
      "cell_type": "code",
      "metadata": {
        "id": "ENzJ3S3QU2WL",
        "colab_type": "code",
        "colab": {
          "base_uri": "https://localhost:8080/",
          "height": 187
        },
        "outputId": "3699b2ca-34d4-416b-c8c4-cc1a4c186594"
      },
      "source": [
        "cv = CountVectorizer(cat_in_the_hat_docs,ngram_range=(1,2),preprocessor=my_cool_preprocessor,max_features=100)\n",
        "count_vector=cv.fit_transform(cat_in_the_hat_docs)\n",
        "\n",
        "#sort the counts of first book title by descending order of counts\n",
        "sorted_items=sort_coo(count_vector[0].tocoo())\n",
        "\n",
        "#Get feature names (words/n-grams). It is sorted by position in sparse matrix\n",
        "feature_names=cv.get_feature_names()\n",
        "n_grams=extract_topn_from_vector(feature_names,sorted_items,10)\n",
        "n_grams"
      ],
      "execution_count": 48,
      "outputs": [
        {
          "output_type": "execute_result",
          "data": {
            "text/plain": [
              "[('cent', 4),\n",
              " ('_connector_', 2),\n",
              " ('two cent', 1),\n",
              " ('two', 1),\n",
              " ('the hat', 1),\n",
              " ('the', 1),\n",
              " ('one cent', 1),\n",
              " ('one', 1),\n",
              " ('old cent', 1),\n",
              " ('old', 1)]"
            ]
          },
          "metadata": {
            "tags": []
          },
          "execution_count": 48
        }
      ]
    },
    {
      "cell_type": "code",
      "metadata": {
        "id": "HKgX7-YqU35h",
        "colab_type": "code",
        "colab": {}
      },
      "source": [
        "#Binary Values Instead of Counts"
      ],
      "execution_count": 0,
      "outputs": []
    },
    {
      "cell_type": "code",
      "metadata": {
        "id": "x7fQNlYDU51P",
        "colab_type": "code",
        "colab": {
          "base_uri": "https://localhost:8080/",
          "height": 680
        },
        "outputId": "9726eb5e-dce5-44ca-dbc7-35ba3391717d"
      },
      "source": [
        "cv = CountVectorizer(cat_in_the_hat_docs,ngram_range=(1,2),binary=True)\n",
        "count_vector=cv.fit_transform(cat_in_the_hat_docs)\n",
        "print(count_vector[2])"
      ],
      "execution_count": 49,
      "outputs": [
        {
          "output_type": "stream",
          "text": [
            "  (0, 6)\t1\n",
            "  (0, 0)\t1\n",
            "  (0, 18)\t1\n",
            "  (0, 38)\t1\n",
            "  (0, 79)\t1\n",
            "  (0, 32)\t1\n",
            "  (0, 44)\t1\n",
            "  (0, 46)\t1\n",
            "  (0, 7)\t1\n",
            "  (0, 19)\t1\n",
            "  (0, 39)\t1\n",
            "  (0, 80)\t1\n",
            "  (0, 33)\t1\n",
            "  (0, 45)\t1\n",
            "  (0, 55)\t1\n",
            "  (0, 85)\t1\n",
            "  (0, 89)\t1\n",
            "  (0, 16)\t1\n",
            "  (0, 26)\t1\n",
            "  (0, 77)\t1\n",
            "  (0, 8)\t1\n",
            "  (0, 30)\t1\n",
            "  (0, 28)\t1\n",
            "  (0, 73)\t1\n",
            "  (0, 34)\t1\n",
            "  (0, 56)\t1\n",
            "  (0, 82)\t1\n",
            "  (0, 86)\t1\n",
            "  (0, 91)\t1\n",
            "  (0, 17)\t1\n",
            "  (0, 27)\t1\n",
            "  (0, 78)\t1\n",
            "  (0, 9)\t1\n",
            "  (0, 31)\t1\n",
            "  (0, 29)\t1\n",
            "  (0, 90)\t1\n",
            "  (0, 4)\t1\n",
            "  (0, 74)\t1\n",
            "  (0, 35)\t1\n"
          ],
          "name": "stdout"
        }
      ]
    },
    {
      "cell_type": "code",
      "metadata": {
        "id": "LpzPIUIGU6vk",
        "colab_type": "code",
        "colab": {}
      },
      "source": [
        "#Custom Tokenizer"
      ],
      "execution_count": 0,
      "outputs": []
    },
    {
      "cell_type": "code",
      "metadata": {
        "id": "cOgizcTQU8OT",
        "colab_type": "code",
        "colab": {
          "base_uri": "https://localhost:8080/",
          "height": 54
        },
        "outputId": "b367261d-84ab-4458-d536-5a57dc977db8"
      },
      "source": [
        "import re\n",
        "\n",
        "def my_tokenizer(text):\n",
        "    text=re.sub(\"(\\\\W)\",\" \\\\1 \",text)\n",
        "    return re.split(\"\\\\s+\",text)\n",
        "    \n",
        "\n",
        "cv = CountVectorizer(cat_in_the_hat_docs,tokenizer=my_tokenizer)\n",
        "count_vector=cv.fit_transform(cat_in_the_hat_docs)\n",
        "print(cv.vocabulary_)"
      ],
      "execution_count": 50,
      "outputs": [
        {
          "output_type": "stream",
          "text": [
            "{'one': 34, 'cent': 14, ',': 4, 'two': 47, 'cents': 15, 'old': 32, 'new': 29, ':': 5, 'all': 7, 'about': 6, 'money': 28, '(': 2, 'cat': 13, 'in': 22, 'the': 44, 'hat': 19, \"'\": 1, 's': 38, 'learning': 25, 'library': 26, 'inside': 24, 'your': 49, 'outside': 36, 'human': 21, 'body': 10, ')': 3, '': 0, 'oh': 31, 'things': 46, 'you': 48, 'can': 12, 'do': 16, 'that': 43, 'are': 8, 'good': 18, 'for': 17, 'staying': 41, 'healthy': 20, 'on': 33, 'beyond': 9, 'bugs': 11, 'insects': 23, 'there': 45, 'no': 30, 'place': 37, 'like': 27, 'space': 40, 'our': 35, 'solar': 39, 'system': 42}\n"
          ],
          "name": "stdout"
        }
      ]
    },
    {
      "cell_type": "code",
      "metadata": {
        "id": "Lc1GUsIsU9D2",
        "colab_type": "code",
        "colab": {}
      },
      "source": [
        ""
      ],
      "execution_count": 0,
      "outputs": []
    }
  ]
}
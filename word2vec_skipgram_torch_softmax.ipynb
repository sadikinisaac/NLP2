{
  "nbformat": 4,
  "nbformat_minor": 0,
  "metadata": {
    "colab": {
      "name": "word2vec-skipgram-torch-softmax.ipynb",
      "provenance": [],
      "authorship_tag": "ABX9TyMMaFeQnGT9WaETA9KPZJXm",
      "include_colab_link": true
    },
    "kernelspec": {
      "name": "python3",
      "display_name": "Python 3"
    }
  },
  "cells": [
    {
      "cell_type": "markdown",
      "metadata": {
        "id": "view-in-github",
        "colab_type": "text"
      },
      "source": [
        "<a href=\"https://colab.research.google.com/github/sadikinisaac/NLP2/blob/master/word2vec_skipgram_torch_softmax.ipynb\" target=\"_parent\"><img src=\"https://colab.research.google.com/assets/colab-badge.svg\" alt=\"Open In Colab\"/></a>"
      ]
    },
    {
      "cell_type": "code",
      "metadata": {
        "id": "mQhuKKok0cQh",
        "colab_type": "code",
        "colab": {
          "base_uri": "https://localhost:8080/",
          "height": 350
        },
        "outputId": "97147900-1eab-4957-cbfa-3f0ba847d6e1"
      },
      "source": [
        "import numpy as np\n",
        "import torch\n",
        "import torch.nn as nn\n",
        "import torch.optim as optim\n",
        "from torch.autograd import Variable\n",
        "import matplotlib.pyplot as plt\n",
        "\n",
        "dtype = torch.FloatTensor\n",
        "\n",
        "# 3 Words Sentence\n",
        "sentences = [ \"i like dog\", \"i like cat\", \"i like animal\",\n",
        "              \"dog cat animal\", \"apple cat dog like\", \"dog fish milk like\",\n",
        "              \"dog cat eyes like\", \"i like apple\", \"apple i hate\",\n",
        "              \"apple i movie book music like\", \"cat dog hate\", \"cat dog like\"]\n",
        "\n",
        "word_sequence = \" \".join(sentences).split()\n",
        "word_list = \" \".join(sentences).split()\n",
        "word_list = list(set(word_list))\n",
        "word_dict = {w: i for i, w in enumerate(word_list)}\n",
        "\n",
        "# Word2Vec Parameter\n",
        "batch_size = 20  # To show 2 dim embedding graph\n",
        "embedding_size = 2  # To show 2 dim embedding graph\n",
        "voc_size = len(word_list)\n",
        "\n",
        "def random_batch(data, size):\n",
        "    random_inputs = []\n",
        "    random_labels = []\n",
        "    random_index = np.random.choice(range(len(data)), size, replace=False)\n",
        "\n",
        "    for i in random_index:\n",
        "        random_inputs.append(np.eye(voc_size)[data[i][0]])  # target\n",
        "        random_labels.append(data[i][1])  # context word\n",
        "\n",
        "    return random_inputs, random_labels\n",
        "\n",
        "# Make skip gram of one size window\n",
        "skip_grams = []\n",
        "for i in range(1, len(word_sequence) - 1):\n",
        "    target = word_dict[word_sequence[i]]\n",
        "    context = [word_dict[word_sequence[i - 1]], word_dict[word_sequence[i + 1]]]\n",
        "\n",
        "    for w in context:\n",
        "        skip_grams.append([target, w])\n",
        "\n",
        "# Model\n",
        "class Word2Vec(nn.Module):\n",
        "    def __init__(self):\n",
        "        super(Word2Vec, self).__init__()\n",
        "\n",
        "        # W and WT is not Traspose relationship\n",
        "        self.W = nn.Parameter(-2 * torch.rand(voc_size, embedding_size) + 1).type(dtype) # voc_size > embedding_size Weight\n",
        "        self.WT = nn.Parameter(-2 * torch.rand(embedding_size, voc_size) + 1).type(dtype) # embedding_size > voc_size Weight\n",
        "\n",
        "    def forward(self, X):\n",
        "        # X : [batch_size, voc_size]\n",
        "        hidden_layer = torch.matmul(X, self.W) # hidden_layer : [batch_size, embedding_size]\n",
        "        output_layer = torch.matmul(hidden_layer, self.WT) # output_layer : [batch_size, voc_size]\n",
        "        return output_layer\n",
        "\n",
        "model = Word2Vec()\n",
        "\n",
        "criterion = nn.CrossEntropyLoss()\n",
        "optimizer = optim.Adam(model.parameters(), lr=0.001)\n",
        "\n",
        "# Training\n",
        "for epoch in range(5000):\n",
        "\n",
        "    input_batch, target_batch = random_batch(skip_grams, batch_size)\n",
        "\n",
        "    input_batch = Variable(torch.Tensor(input_batch))\n",
        "    target_batch = Variable(torch.LongTensor(target_batch))\n",
        "\n",
        "    optimizer.zero_grad()\n",
        "    output = model(input_batch)\n",
        "\n",
        "    # output : [batch_size, voc_size], target_batch : [batch_size] (LongTensor, not one-hot)\n",
        "    loss = criterion(output, target_batch)\n",
        "    if (epoch + 1)%1000 == 0:\n",
        "        print('Epoch:', '%04d' % (epoch + 1), 'cost =', '{:.6f}'.format(loss))\n",
        "\n",
        "    loss.backward()\n",
        "    optimizer.step()\n",
        "\n",
        "for i, label in enumerate(word_list):\n",
        "    W, WT = model.parameters()\n",
        "    x,y = float(W[i][0]), float(W[i][1])\n",
        "    plt.scatter(x, y)\n",
        "    plt.annotate(label, xy=(x, y), xytext=(5, 2), textcoords='offset points', ha='right', va='bottom')\n",
        "plt.show()"
      ],
      "execution_count": 1,
      "outputs": [
        {
          "output_type": "stream",
          "text": [
            "Epoch: 1000 cost = 2.280928\n",
            "Epoch: 2000 cost = 2.203817\n",
            "Epoch: 3000 cost = 2.392578\n",
            "Epoch: 4000 cost = 1.968352\n",
            "Epoch: 5000 cost = 2.086917\n"
          ],
          "name": "stdout"
        },
        {
          "output_type": "display_data",
          "data": {
            "image/png": "[encoded data removed]",
            "text/plain": [
              "<Figure size 432x288 with 1 Axes>"
            ]
          },
          "metadata": {
            "tags": []
          }
        }
      ]
    },
    {
      "cell_type": "code",
      "metadata": {
        "id": "ezmSb_tp0hay",
        "colab_type": "code",
        "colab": {}
      },
      "source": [
        ""
      ],
      "execution_count": 0,
      "outputs": []
    }
  ]
}